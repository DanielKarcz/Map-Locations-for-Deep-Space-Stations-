{
 "cells": [
  {
   "cell_type": "code",
   "execution_count": 79,
   "metadata": {},
   "outputs": [
    {
     "name": "stdout",
     "output_type": "stream",
     "text": [
      "Requirement already satisfied: ipyleaflet in ./anaconda3/lib/python3.7/site-packages (0.11.1)\n",
      "Requirement already satisfied: traittypes<3,>=0.2.1 in ./anaconda3/lib/python3.7/site-packages (from ipyleaflet) (0.2.1)\n",
      "Requirement already satisfied: ipywidgets<8,>=7.5.0 in ./anaconda3/lib/python3.7/site-packages (from ipyleaflet) (7.5.1)\n",
      "Requirement already satisfied: xarray>=0.10 in ./anaconda3/lib/python3.7/site-packages (from ipyleaflet) (0.12.3)\n",
      "Requirement already satisfied: branca<0.4,>=0.3.1 in ./anaconda3/lib/python3.7/site-packages (from ipyleaflet) (0.3.1)\n",
      "Requirement already satisfied: traitlets>=4.2.2 in ./anaconda3/lib/python3.7/site-packages (from traittypes<3,>=0.2.1->ipyleaflet) (4.3.2)\n",
      "Requirement already satisfied: nbformat>=4.2.0 in ./anaconda3/lib/python3.7/site-packages (from ipywidgets<8,>=7.5.0->ipyleaflet) (4.4.0)\n",
      "Requirement already satisfied: ipykernel>=4.5.1 in ./anaconda3/lib/python3.7/site-packages (from ipywidgets<8,>=7.5.0->ipyleaflet) (5.1.0)\n",
      "Requirement already satisfied: widgetsnbextension~=3.5.0 in ./anaconda3/lib/python3.7/site-packages (from ipywidgets<8,>=7.5.0->ipyleaflet) (3.5.1)\n",
      "Requirement already satisfied: ipython>=4.0.0; python_version >= \"3.3\" in ./anaconda3/lib/python3.7/site-packages (from ipywidgets<8,>=7.5.0->ipyleaflet) (7.4.0)\n",
      "Requirement already satisfied: pandas>=0.19.2 in ./anaconda3/lib/python3.7/site-packages (from xarray>=0.10->ipyleaflet) (0.24.2)\n",
      "Requirement already satisfied: numpy>=1.12 in ./anaconda3/lib/python3.7/site-packages (from xarray>=0.10->ipyleaflet) (1.16.2)\n",
      "Requirement already satisfied: six in ./anaconda3/lib/python3.7/site-packages (from branca<0.4,>=0.3.1->ipyleaflet) (1.12.0)\n",
      "Requirement already satisfied: jinja2 in ./anaconda3/lib/python3.7/site-packages (from branca<0.4,>=0.3.1->ipyleaflet) (2.10)\n",
      "Requirement already satisfied: decorator in ./anaconda3/lib/python3.7/site-packages (from traitlets>=4.2.2->traittypes<3,>=0.2.1->ipyleaflet) (4.4.0)\n",
      "Requirement already satisfied: ipython-genutils in ./anaconda3/lib/python3.7/site-packages (from traitlets>=4.2.2->traittypes<3,>=0.2.1->ipyleaflet) (0.2.0)\n",
      "Requirement already satisfied: jsonschema!=2.5.0,>=2.4 in ./anaconda3/lib/python3.7/site-packages (from nbformat>=4.2.0->ipywidgets<8,>=7.5.0->ipyleaflet) (3.0.1)\n",
      "Requirement already satisfied: jupyter-core in ./anaconda3/lib/python3.7/site-packages (from nbformat>=4.2.0->ipywidgets<8,>=7.5.0->ipyleaflet) (4.4.0)\n",
      "Requirement already satisfied: tornado>=4.2 in ./anaconda3/lib/python3.7/site-packages (from ipykernel>=4.5.1->ipywidgets<8,>=7.5.0->ipyleaflet) (6.0.2)\n",
      "Requirement already satisfied: jupyter-client in ./anaconda3/lib/python3.7/site-packages (from ipykernel>=4.5.1->ipywidgets<8,>=7.5.0->ipyleaflet) (5.2.4)\n",
      "Requirement already satisfied: notebook>=4.4.1 in ./anaconda3/lib/python3.7/site-packages (from widgetsnbextension~=3.5.0->ipywidgets<8,>=7.5.0->ipyleaflet) (5.7.8)\n",
      "Requirement already satisfied: appnope; sys_platform == \"darwin\" in ./anaconda3/lib/python3.7/site-packages (from ipython>=4.0.0; python_version >= \"3.3\"->ipywidgets<8,>=7.5.0->ipyleaflet) (0.1.0)\n",
      "Requirement already satisfied: setuptools>=18.5 in ./anaconda3/lib/python3.7/site-packages (from ipython>=4.0.0; python_version >= \"3.3\"->ipywidgets<8,>=7.5.0->ipyleaflet) (40.8.0)\n",
      "Requirement already satisfied: pexpect; sys_platform != \"win32\" in ./anaconda3/lib/python3.7/site-packages (from ipython>=4.0.0; python_version >= \"3.3\"->ipywidgets<8,>=7.5.0->ipyleaflet) (4.6.0)\n",
      "Requirement already satisfied: prompt-toolkit<2.1.0,>=2.0.0 in ./anaconda3/lib/python3.7/site-packages (from ipython>=4.0.0; python_version >= \"3.3\"->ipywidgets<8,>=7.5.0->ipyleaflet) (2.0.9)\n",
      "Requirement already satisfied: backcall in ./anaconda3/lib/python3.7/site-packages (from ipython>=4.0.0; python_version >= \"3.3\"->ipywidgets<8,>=7.5.0->ipyleaflet) (0.1.0)\n",
      "Requirement already satisfied: pygments in ./anaconda3/lib/python3.7/site-packages (from ipython>=4.0.0; python_version >= \"3.3\"->ipywidgets<8,>=7.5.0->ipyleaflet) (2.3.1)\n",
      "Requirement already satisfied: jedi>=0.10 in ./anaconda3/lib/python3.7/site-packages (from ipython>=4.0.0; python_version >= \"3.3\"->ipywidgets<8,>=7.5.0->ipyleaflet) (0.13.3)\n",
      "Requirement already satisfied: pickleshare in ./anaconda3/lib/python3.7/site-packages (from ipython>=4.0.0; python_version >= \"3.3\"->ipywidgets<8,>=7.5.0->ipyleaflet) (0.7.5)\n",
      "Requirement already satisfied: pytz>=2011k in ./anaconda3/lib/python3.7/site-packages (from pandas>=0.19.2->xarray>=0.10->ipyleaflet) (2018.9)\n",
      "Requirement already satisfied: python-dateutil>=2.5.0 in ./anaconda3/lib/python3.7/site-packages (from pandas>=0.19.2->xarray>=0.10->ipyleaflet) (2.8.0)\n",
      "Requirement already satisfied: MarkupSafe>=0.23 in ./anaconda3/lib/python3.7/site-packages (from jinja2->branca<0.4,>=0.3.1->ipyleaflet) (1.1.1)\n",
      "Requirement already satisfied: attrs>=17.4.0 in ./anaconda3/lib/python3.7/site-packages (from jsonschema!=2.5.0,>=2.4->nbformat>=4.2.0->ipywidgets<8,>=7.5.0->ipyleaflet) (19.1.0)\n",
      "Requirement already satisfied: pyrsistent>=0.14.0 in ./anaconda3/lib/python3.7/site-packages (from jsonschema!=2.5.0,>=2.4->nbformat>=4.2.0->ipywidgets<8,>=7.5.0->ipyleaflet) (0.14.11)\n",
      "Requirement already satisfied: pyzmq>=13 in ./anaconda3/lib/python3.7/site-packages (from jupyter-client->ipykernel>=4.5.1->ipywidgets<8,>=7.5.0->ipyleaflet) (18.0.0)\n",
      "Requirement already satisfied: terminado>=0.8.1 in ./anaconda3/lib/python3.7/site-packages (from notebook>=4.4.1->widgetsnbextension~=3.5.0->ipywidgets<8,>=7.5.0->ipyleaflet) (0.8.1)\n",
      "Requirement already satisfied: nbconvert in ./anaconda3/lib/python3.7/site-packages (from notebook>=4.4.1->widgetsnbextension~=3.5.0->ipywidgets<8,>=7.5.0->ipyleaflet) (5.4.1)\n",
      "Requirement already satisfied: prometheus-client in ./anaconda3/lib/python3.7/site-packages (from notebook>=4.4.1->widgetsnbextension~=3.5.0->ipywidgets<8,>=7.5.0->ipyleaflet) (0.6.0)\n",
      "Requirement already satisfied: Send2Trash in ./anaconda3/lib/python3.7/site-packages (from notebook>=4.4.1->widgetsnbextension~=3.5.0->ipywidgets<8,>=7.5.0->ipyleaflet) (1.5.0)\n",
      "Requirement already satisfied: ptyprocess>=0.5 in ./anaconda3/lib/python3.7/site-packages (from pexpect; sys_platform != \"win32\"->ipython>=4.0.0; python_version >= \"3.3\"->ipywidgets<8,>=7.5.0->ipyleaflet) (0.6.0)\n",
      "Requirement already satisfied: wcwidth in ./anaconda3/lib/python3.7/site-packages (from prompt-toolkit<2.1.0,>=2.0.0->ipython>=4.0.0; python_version >= \"3.3\"->ipywidgets<8,>=7.5.0->ipyleaflet) (0.1.7)\n",
      "Requirement already satisfied: parso>=0.3.0 in ./anaconda3/lib/python3.7/site-packages (from jedi>=0.10->ipython>=4.0.0; python_version >= \"3.3\"->ipywidgets<8,>=7.5.0->ipyleaflet) (0.3.4)\n",
      "Requirement already satisfied: mistune>=0.8.1 in ./anaconda3/lib/python3.7/site-packages (from nbconvert->notebook>=4.4.1->widgetsnbextension~=3.5.0->ipywidgets<8,>=7.5.0->ipyleaflet) (0.8.4)\n",
      "Requirement already satisfied: entrypoints>=0.2.2 in ./anaconda3/lib/python3.7/site-packages (from nbconvert->notebook>=4.4.1->widgetsnbextension~=3.5.0->ipywidgets<8,>=7.5.0->ipyleaflet) (0.3)\n",
      "Requirement already satisfied: bleach in ./anaconda3/lib/python3.7/site-packages (from nbconvert->notebook>=4.4.1->widgetsnbextension~=3.5.0->ipywidgets<8,>=7.5.0->ipyleaflet) (3.1.0)\n",
      "Requirement already satisfied: pandocfilters>=1.4.1 in ./anaconda3/lib/python3.7/site-packages (from nbconvert->notebook>=4.4.1->widgetsnbextension~=3.5.0->ipywidgets<8,>=7.5.0->ipyleaflet) (1.4.2)\n",
      "Requirement already satisfied: testpath in ./anaconda3/lib/python3.7/site-packages (from nbconvert->notebook>=4.4.1->widgetsnbextension~=3.5.0->ipywidgets<8,>=7.5.0->ipyleaflet) (0.4.2)\n",
      "Requirement already satisfied: defusedxml in ./anaconda3/lib/python3.7/site-packages (from nbconvert->notebook>=4.4.1->widgetsnbextension~=3.5.0->ipywidgets<8,>=7.5.0->ipyleaflet) (0.5.0)\n",
      "Requirement already satisfied: webencodings in ./anaconda3/lib/python3.7/site-packages (from bleach->nbconvert->notebook>=4.4.1->widgetsnbextension~=3.5.0->ipywidgets<8,>=7.5.0->ipyleaflet) (0.5.1)\n"
     ]
    }
   ],
   "source": [
    "!pip install ipyleaflet"
   ]
  },
  {
   "cell_type": "code",
   "execution_count": 80,
   "metadata": {},
   "outputs": [
    {
     "name": "stdout",
     "output_type": "stream",
     "text": [
      "/Users/danielkarcz/anaconda3/lib/python3.7/site-packages/dask/config.py:168: YAMLLoadWarning: calling yaml.load() without Loader=... is deprecated, as the default Loader is unsafe. Please read https://msg.pyyaml.org/load for full details.\n",
      "  data = yaml.load(f.read()) or {}\n",
      "/Users/danielkarcz/anaconda3/lib/python3.7/site-packages/distributed/config.py:20: YAMLLoadWarning: calling yaml.load() without Loader=... is deprecated, as the default Loader is unsafe. Please read https://msg.pyyaml.org/load for full details.\n",
      "  defaults = yaml.load(f)\n",
      "Enabling notebook extension jupyter-leaflet/extension...\n",
      "      - Validating: \u001b[32mOK\u001b[0m\n"
     ]
    }
   ],
   "source": [
    "!jupyter nbextension enable --py --sys-prefix ipyleaflet"
   ]
  },
  {
   "cell_type": "markdown",
   "metadata": {},
   "source": [
    "# Map 1: Wind Velocity, DSS location, and Distances"
   ]
  },
  {
   "cell_type": "markdown",
   "metadata": {},
   "source": [
    "### Interactive Slider: Plot storms, earthquakes, and wind gusts over time."
   ]
  },
  {
   "cell_type": "code",
   "execution_count": 109,
   "metadata": {},
   "outputs": [
    {
     "data": {
      "application/vnd.jupyter.widget-view+json": {
       "model_id": "fdfa55de676b43c88074285857fcf3fb",
       "version_major": 2,
       "version_minor": 0
      },
      "text/plain": [
       "Map(basemap={'url': 'http://c.basemaps.cartocdn.com/dark_all/{z}/{x}/{y}.png', 'max_zoom': 20, 'attribution': …"
      ]
     },
     "metadata": {},
     "output_type": "display_data"
    }
   ],
   "source": [
    "from ipyleaflet import Map, Velocity, TileLayer, basemaps, Marker, MarkerCluster, SplitMapControl\n",
    "import xarray as xr\n",
    "import os\n",
    "\n",
    "if not os.path.exists('wind-global.nc'):\n",
    "  url = 'https://github.com/benbovy/xvelmap/raw/master/notebooks/wind-global.nc'\n",
    "  import requests\n",
    "  r = requests.get(url)\n",
    "  wind_data = r.content\n",
    "  with open('wind-global.nc', 'wb') as f:\n",
    "      f.write(wind_data)\n",
    "\n",
    "center = [0, 0]\n",
    "zoom = 1\n",
    "m = Map(center=center,zoom=zoom, interpolation='nearest', basemap=basemaps.CartoDB.DarkMatter)\n",
    "\n",
    "ds = xr.open_dataset('wind-global.nc')\n",
    "display_options = {\n",
    "    'velocityType': 'Global Wind',\n",
    "    'displayPosition': 'bottomleft',\n",
    "    'displayEmptyString': 'No wind data'\n",
    "}\n",
    "wind = Velocity(data=ds,\n",
    "                zonal_speed='u_wind',\n",
    "                meridional_speed='v_wind',\n",
    "                latitude_dimension='lat',\n",
    "                longitude_dimension='lon',\n",
    "                velocity_scale=0.01,\n",
    "                max_velocity=20, #should increase velocity max.\n",
    "                display_options=display_options)\n",
    "m.add_layer(wind)\n",
    "\n",
    "#############################################################################################################\n",
    "marker_DSS14 = Marker(location=(35.253324312,243.63766244)) # –2353621.420,–4641341.472 had to shorten, no floats (decimals) allowed\n",
    "marker_DSS24 = Marker(location=(35.202361416,243.73074007)) #had to shorten, no floats (decimals) allowed\n",
    "marker_DSS25 = Marker(location=(35.201540306,243.72869246)) #had to shorten, no floats (decimals) allowed\n",
    "marker_DSS26 = Marker(location=(35.2084118, 243.73714062)) #had to shorten, no floats (decimals) allowed\n",
    "marker_DSS34 = Marker(location=(-35.235452383, 148.585507191))\n",
    "marker_DSS35 = Marker(location=(-35.234486387, 148.585324088))\n",
    "marker_DSS36 = Marker(location=(-35.234236634, 148.584275912))\n",
    "marker_DSS43 = Marker(location=(-35.248727240, 148.585256231))\n",
    "marker_DSS54 = Marker(location=(40.253223805, 355.444525141))\n",
    "marker_DSS55 = Marker(location=(40.252746525, 355.445052012))\n",
    "marker_DSS63 = Marker(location=(40.255235510, 355.457169240))\n",
    "marker_DSS65 = Marker(location=(40.253794289, 355.445748397))\n",
    "\n",
    "marker_cluster = MarkerCluster(markers=(marker_DSS14, marker_DSS24, marker_DSS25, marker_DSS26,marker_DSS34,\n",
    "                                        marker_DSS35,marker_DSS36,marker_DSS43,marker_DSS54, marker_DSS55,\n",
    "                                        marker_DSS63,marker_DSS65))\n",
    "m.add_layer(marker_cluster);\n",
    "#################################################################################################################\n",
    "# create map\n",
    "from ipyleaflet import MeasureControl\n",
    "\n",
    "#create control\n",
    "measure = MeasureControl(position='topleft', active_color='red', primary_length_unit='miles')\n",
    "\n",
    "#add control to map\n",
    "m.add_control(measure)\n",
    "\n",
    "# measure line color \n",
    "measure_completed_color = 'red'\n",
    "##################################################################################################################\n",
    "from ipyleaflet import FullScreenControl\n",
    "control = FullScreenControl()\n",
    "m.add_control(control)\n",
    "\n",
    "##################################################################################################################\n",
    "\n",
    "m"
   ]
  },
  {
   "cell_type": "markdown",
   "metadata": {},
   "source": [
    "# Map 2 DSS Topography and Geography"
   ]
  },
  {
   "cell_type": "code",
   "execution_count": 108,
   "metadata": {
    "scrolled": true
   },
   "outputs": [
    {
     "data": {
      "application/vnd.jupyter.widget-view+json": {
       "model_id": "60d1f2f9e9c94d688325254d293a2243",
       "version_major": 2,
       "version_minor": 0
      },
      "text/plain": [
       "interactive(children=(RadioButtons(description='map types:', options=('Positron', 'DarkMatter', 'WorldStreetMa…"
      ]
     },
     "metadata": {},
     "output_type": "display_data"
    },
    {
     "data": {
      "text/plain": [
       "<function __main__.toggle_maps(map)>"
      ]
     },
     "execution_count": 108,
     "metadata": {},
     "output_type": "execute_result"
    }
   ],
   "source": [
    "radio_button = ipywidgets.RadioButtons(options=['Positron', 'DarkMatter', 'WorldStreetMap', 'WorldTopoMap',\n",
    "                                              'WorldImagery', 'NatGeoWorldMap','ModisTerra','OpenTopoMap'], \n",
    "                                      value='Positron', description= 'map types:')\n",
    "\n",
    "# 'Delorme','HikeBike', 'HyddaFull', 'Night','Mapnik', 'HOT', 'Toner', 'Watercolor'\n",
    "\n",
    "from ipyleaflet import (Map, DrawControl, basemaps)\n",
    "import ipywidgets\n",
    "\n",
    "def toggle_maps(map):\n",
    "    if map == 'Positron': m = Map(zoom=2, basemap=basemaps.CartoDB.Positron)\n",
    "    if map == 'DarkMatter': m = Map(zoom =1, basemap=basemaps.CartoDB.DarkMatter)\n",
    "    if map == 'WorldStreetMap': m = Map(center=[35.422664976,-116.887329784],zoom =10,basemap=basemaps.Esri.WorldStreetMap)\n",
    "    if map == 'WorldTopoMap': m = Map(center=[35.422664976,-116.887329784],zoom =10,basemap=basemaps.Esri.WorldTopoMap)\n",
    "    if map == 'WorldImagery': m = Map(center=[35.422664976,-116.887329784],zoom =10,basemap=basemaps.Esri.WorldImagery)\n",
    "    if map == 'NatGeoWorldMap': m = Map(center=[35.422664976,-116.887329784],zoom =10,basemap=basemaps.Esri.NatGeoWorldMap)\n",
    "    if map == 'ModisTerra': m = Map(center=[35.422664976,-116.887329784],zoom =9,basemap=basemaps.NASAGIBS.ModisTerraTrueColorCR)\n",
    "    if map == 'OpenTopoMap': m = Map(center=[35.422664976,-116.887329784],zoom =7,basemap=basemaps.OpenTopoMap)\n",
    "    #if map == 'HikeBike': m = Map(zoom)\n",
    "    #if map == 'HyddaFull': m = Map(zoom)\n",
    "    #if map == 'Night': m = Map(zoom)\n",
    "    #if map == 'Mapnik': m = Map(zoom)\n",
    "    #if map == 'HOT': m = Map(zoom)\n",
    "    #if map == 'OpenTopoMap': m = Map(zoom)\n",
    "    #if map == 'Toner': m = Map(zoom)\n",
    "    #if map == 'Watercolor': m = Map(zoom)\n",
    "    display(m)\n",
    "    \n",
    "ipywidgets.interact(toggle_maps, map=radio_button)\n",
    "    "
   ]
  },
  {
   "cell_type": "markdown",
   "metadata": {},
   "source": [
    "# Map 3 Split Control with Earthquake Data"
   ]
  },
  {
   "cell_type": "code",
   "execution_count": 118,
   "metadata": {},
   "outputs": [],
   "source": [
    "# add in Earthquake data from Kaggle\n",
    "# add in weather data with lat long coordinates"
   ]
  },
  {
   "cell_type": "code",
   "execution_count": 111,
   "metadata": {},
   "outputs": [
    {
     "data": {
      "application/vnd.jupyter.widget-view+json": {
       "model_id": "a379376314a5466cb756e68d7ec9c984",
       "version_major": 2,
       "version_minor": 0
      },
      "text/plain": [
       "Map(basemap={'url': 'https://{s}.tile.openstreetmap.org/{z}/{x}/{y}.png', 'max_zoom': 19, 'attribution': 'Map …"
      ]
     },
     "metadata": {},
     "output_type": "display_data"
    }
   ],
   "source": [
    "import ipyleaflet\n",
    "from ipyleaflet import basemaps, basemap_to_tiles, SplitMapControl\n",
    "\n",
    "# create map\n",
    "split_map = ipyleaflet.Map(zoom=1)\n",
    "\n",
    "#create left and right layers\n",
    "right_layer = basemap_to_tiles(basemaps.Esri.WorldStreetMap)\n",
    "left_layer =  basemap_to_tiles(basemaps.NASAGIBS.ViirsEarthAtNight2012)\n",
    "\n",
    "#create control  \n",
    "control_split = SplitMapControl(left_layer=left_layer, right_layer=right_layer)\n",
    "\n",
    "# add control to map\n",
    "split_map.add_control(control_split)\n",
    "\n",
    "\n",
    "###############################################################################################################\n",
    "from ipyleaflet import MeasureControl\n",
    "\n",
    "#create control\n",
    "measure = MeasureControl(position='topleft', active_color='red', primary_length_unit='miles')\n",
    "\n",
    "#add control to map\n",
    "split_map.add_control(measure)\n",
    "\n",
    "# measure line color \n",
    "measure_completed_color = 'red'\n",
    "\n",
    "\n",
    "#################################################################################################################\n",
    "from ipyleaflet import FullScreenControl\n",
    "control = FullScreenControl()\n",
    "split_map.add_control(control)\n",
    "\n",
    "# display map\n",
    "split_map"
   ]
  },
  {
   "cell_type": "markdown",
   "metadata": {},
   "source": [
    "# Deep Space Station Coordinate Data"
   ]
  },
  {
   "cell_type": "code",
   "execution_count": 62,
   "metadata": {},
   "outputs": [],
   "source": [
    "# This data was obtained from the \"Deep Space Network 301 Coverage and Geometry\" NASA publication.\n",
    "#Table 5. Geodetic Coordinates for DSN Stations With Respect to the WGS 84 Ellipsoid\n",
    "#Antenna latitude (longitude (height(h)\n",
    "#Name Description deg min sec deg min sec (m)\n",
    "#DSS 13 34-m R & D 35 14 49.79131 243 12 19.94761 1070.444\n",
    "#DSS 14 70-m 35 25 33.24312 243 6 37.66244 1001.390\n",
    "#DSS 15 34-m HEF 35 25 18.67179 243 6 46.09762 973.211\n",
    "#DSS 24 34-m BWG 35 20 23.61416 243 7 30.74007 951.499\n",
    "#DSS 25 34-m BWG 35 20 15.40306 243 7 28.69246 959.634\n",
    "#DSS 26 34-m BWG 35 20 8.48118 243 7 37.14062 968.686\n",
    "#DSS 342 34-m BWG –35 23 54.52383 148 58 55.07191 692.020\n",
    "#DSS 352 34-m BWG −35 23 44.86387 148 58 53.24088 694.897\n",
    "#DSS 362 34-m BWG −35 23 42.36634 148 58 42.75912 685.503\n",
    "#DSS 43 70-m –35 24 8.72724 148 58 52.56231 688.867\n",
    "#DSS 45 34-m HEF –35 23 54.44766 148 58 39.66828 674.347\n",
    "#DSS 54 34-m BWG 40 25 32.23805 355 44 45.25141 837.051\n",
    "#DSS 55 34-m BWG 40 25 27.46525 355 44 50.52012 819.061\n",
    "#DSS 63 70-m 40 25 52.35510 355 45 7.16924 864.816\n",
    "#DSS 65 34-m HEF 40 25 37.94289 355 44 57.48397 833.854\n",
    "#Notes:\n",
    "#1. Geoidal separation must be subtracted from WGS 84 height to get MSL height.\n",
    "#2. Latitude, longitude, and height absolute accuracy estimated to be +/-0.001 sec and +/-3 cm\n",
    "#(0.030 m) (1-sigma)\n",
    "#3. For southern hemisphere antennas deg, min, sec should all be considered negati"
   ]
  },
  {
   "cell_type": "code",
   "execution_count": 59,
   "metadata": {},
   "outputs": [],
   "source": [
    "# This data was obtained from the \"Deep Space Network 301 Coverage and Geometry\" NASA publication.\n",
    "\n",
    "#Table 2. Cartesian Coordinates for DSN Stations in ITRF93 Reference Frame, Epoch 2003.0\n",
    "#Antenna1 Cartesian Coordinates\n",
    "#Name Description x(m) y(m) z(m)\n",
    "#DSS 13 34-m R & D –2351112.659 –4655530.636 +3660912.728\n",
    "#DSS 14 70-m –2353621.420 –4641341.472 +3677052.318\n",
    "#DSS 15 34-m HEF –2353538.958 –4641649.429 +3676669.984\n",
    "#DSS 24 34-m BWG –2354906.711 –4646840.095 +3669242.325\n",
    "#DSS 25 34-m BWG –2355022.014 –4646953.204 +3669040.567\n",
    "#DSS 26 34-m BWG –2354890.797 –4647166.328 +3668871.755\n",
    "#DSS 341 34-m BWG –4461147.093 +2682439.239 –3674393.133\n",
    "#DSS 351 34-m BWG −4461273.090 +2682568.925 −3674152.093\n",
    "#DSS 361 34-m BWG −4461168.415 +2682814.657 −3674083.901\n",
    "#DSS 43 70-m –4460894.917 +2682361.507 –3674748.152\n",
    "#DSS 45 34-m HEF –4460935.578 +2682765.661 –3674380.982\n",
    "#DSS 54 34-m BWG +4849434.488 –360723.8999 +4114618.835\n",
    "#DSS 55 34-m BWG +4849525.256 –360606.0932 +4114495.084\n",
    "#DSS 63 70-m +4849092.518 –360180.3480 +4115109.251\n",
    "#DSS 65 34-m HEF +4849339.634 –360427.6637 +4114750.733\n",
    "#1. Notes: Position absolute accuracy estimated to be +/−3 cm (0.030 m) (1-sigma) for each coordinate.\n",
    "\n",
    "# x(m) = distance from the spin axis towards Greenwhich meridian (+x), or towards 180 degree meridian (-x)\n",
    "# y(m)= distance infront of (+y) or behind (-y) plane (Hour Angle plane) established by the spin axis and\n",
    "# Greenwhich meridian\n",
    "# z(m) = height above (+z) or below (-z) equitorial plane"
   ]
  },
  {
   "cell_type": "code",
   "execution_count": 78,
   "metadata": {},
   "outputs": [],
   "source": []
  },
  {
   "cell_type": "markdown",
   "metadata": {},
   "source": [
    "# Map Features in Isolation\n",
    "\n",
    "\n",
    "\n"
   ]
  },
  {
   "cell_type": "markdown",
   "metadata": {},
   "source": [
    "# "
   ]
  },
  {
   "cell_type": "markdown",
   "metadata": {},
   "source": [
    "# Marker Cluster Feature"
   ]
  },
  {
   "cell_type": "code",
   "execution_count": null,
   "metadata": {},
   "outputs": [],
   "source": [
    "from ipyleaflet import Map, Marker, MarkerCluster\n",
    "#install geoecoder first from python.org python package index\n",
    "import geocoder\n",
    "\n",
    "################## Practice Code Start ######################################################################################\n",
    "# Reference = https://www.youtube.com/watch?v=wjzAy_yLrdA\n",
    "#Location address\n",
    "#location = geoencoder.osm('2920 Zoo Dr, San Diego, CA, 92101') #type in location.json to see all location data :)\n",
    "#location.json\n",
    "#Latitude and Longitutde of location\n",
    "#latlng = [location.lat, location.long]\n",
    "#san_diego_zoo_map = Map(center=latlng)\n",
    "#marker\n",
    "#marker = Marker(location=latlng, title ='2920 Zoo Dr, San Diego, CA, 92101')\n",
    "#san_diego_zoo_map.add_layer(marker)\n",
    "################## Practice Code End ##################################################################################\n",
    "\n",
    "#Cartesian Coordinate: Description x(m) y(m) z(m)\n",
    "#DSS 14 70-m –2353621.420 –4641341.472 +3677052.318\n",
    "#DSS 24 34-m BWG –2354906.711 –4646840.095 +3669242.325\n",
    "#DSS 25 34-m BWG –2355022.014 –4646953.204 +3669040.567\n",
    "#DSS 26 34-m BWG –2354890.797 –4647166.328 +3668871.755\n",
    "\n",
    "#Lat and Long\n",
    "#DSS 14 70-m 35 25 33.24312 243 6 37.66244  \n",
    "#DSS 24 34-m BWG 35 20 23.61416 243 7 30.74007  \n",
    "#DSS 25 34-m BWG 35 20 15.40306 243 7 28.69246  \n",
    "#DSS 26 34-m BWG 35 20 8.48118 243 7 37.14062 \n",
    "#DSS 34 34-m BWG –35.235452383 148.585507191  #Canberra\n",
    "#DSS 35 34-m BWG −35.234486387 148.585324088  #Canberra\n",
    "#DSS 36 34-m BWG −35.234236634 148.584275912  #Canberra\n",
    "#DSS 43 70-m BWG –35.248727240 148.585256231  #Canberra\n",
    "#DSS 54 34-m BWG  40.253223805 355.444525141  #Madrid\n",
    "#DSS 55 34-m BWG  40.252746525 355.445052012  #Madrid\n",
    "#DSS 63 70-m 40   25.5235510   355.457169240  #Madrid\n",
    "#DSS 65 34-m HEF  40.253794289 355.445748397  #Madrid\n",
    "\n",
    "#marker cluster \n",
    "m = Map(center=(35.422664976,-116.887329784),zoom =1)\n",
    "marker_DSS14 = Marker(location=(35.253324312,243.63766244)) # –2353621.420,–4641341.472 had to shorten, no floats (decimals) allowed\n",
    "marker_DSS24 = Marker(location=(35.202361416,243.73074007)) #had to shorten, no floats (decimals) allowed\n",
    "marker_DSS25 = Marker(location=(35.201540306,243.72869246)) #had to shorten, no floats (decimals) allowed\n",
    "marker_DSS26 = Marker(location=(35.2084118, 243.73714062)) #had to shorten, no floats (decimals) allowed\n",
    "marker_DSS34 = Marker(location=(-35.235452383, 148.585507191))\n",
    "marker_DSS35 = Marker(location=(-35.234486387, 148.585324088))\n",
    "marker_DSS36 = Marker(location=(-35.234236634, 148.584275912))\n",
    "marker_DSS43 = Marker(location=(-35.248727240, 148.585256231))\n",
    "marker_DSS54 = Marker(location=(40.253223805, 355.444525141))\n",
    "marker_DSS55 = Marker(location=(40.252746525, 355.445052012))\n",
    "marker_DSS63 = Marker(location=(40.255235510, 355.457169240))\n",
    "marker_DSS65 = Marker(location=(40.253794289, 355.445748397))\n",
    "\n",
    "\n",
    "\n",
    "marker_cluster = MarkerCluster(\n",
    "    markers=(marker_DSS14, marker_DSS24, marker_DSS25, marker_DSS26,marker_DSS34,marker_DSS35,marker_DSS36,marker_DSS43,\n",
    "         marker_DSS54, marker_DSS55,marker_DSS63,marker_DSS65)\n",
    ")\n",
    "\n",
    "m.add_layer(marker_cluster);\n",
    "\n",
    "m\n",
    "\n"
   ]
  },
  {
   "cell_type": "markdown",
   "metadata": {},
   "source": [
    "# Full Screen Control Feature"
   ]
  },
  {
   "cell_type": "code",
   "execution_count": 113,
   "metadata": {},
   "outputs": [
    {
     "data": {
      "application/vnd.jupyter.widget-view+json": {
       "model_id": "956f0665e33547dcae59573c9a6cf538",
       "version_major": 2,
       "version_minor": 0
      },
      "text/plain": [
       "Map(basemap={'url': 'https://{s}.tile.openstreetmap.org/{z}/{x}/{y}.png', 'max_zoom': 19, 'attribution': 'Map …"
      ]
     },
     "metadata": {},
     "output_type": "display_data"
    }
   ],
   "source": [
    "#FULL SCREEN CONTROL\n",
    "from ipyleaflet import FullScreenControl\n",
    "full_screen_map = Map(zoom=1)\n",
    "control = FullScreenControl()\n",
    "full_screen_map.add_control(control)\n",
    "\n",
    "full_screen_map"
   ]
  },
  {
   "cell_type": "markdown",
   "metadata": {},
   "source": [
    "# Measure Control Feature"
   ]
  },
  {
   "cell_type": "code",
   "execution_count": 114,
   "metadata": {},
   "outputs": [
    {
     "data": {
      "application/vnd.jupyter.widget-view+json": {
       "model_id": "41f468a53dc44dee860907b92fa20c7a",
       "version_major": 2,
       "version_minor": 0
      },
      "text/plain": [
       "Map(basemap={'url': 'https://{s}.tile.openstreetmap.org/{z}/{x}/{y}.png', 'max_zoom': 19, 'attribution': 'Map …"
      ]
     },
     "metadata": {},
     "output_type": "display_data"
    }
   ],
   "source": [
    "import ipyleaflet\n",
    "from ipyleaflet import MeasureControl\n",
    "\n",
    "# create map\n",
    "measure_control_map = ipyleaflet.Map(zoom=1)\n",
    "\n",
    "#create control\n",
    "measure = MeasureControl(position='topleft', active_color='red', primary_length_unit='miles')\n",
    "\n",
    "#add control to map\n",
    "measure_control_map.add_control(measure)\n",
    "\n",
    "# measure line color \n",
    "measure_completed_color = 'red'\n",
    "\n",
    "# display map\n",
    "measure_control_map"
   ]
  },
  {
   "cell_type": "code",
   "execution_count": null,
   "metadata": {},
   "outputs": [],
   "source": []
  }
 ],
 "metadata": {
  "kernelspec": {
   "display_name": "Python 3",
   "language": "python",
   "name": "python3"
  },
  "language_info": {
   "codemirror_mode": {
    "name": "ipython",
    "version": 3
   },
   "file_extension": ".py",
   "mimetype": "text/x-python",
   "name": "python",
   "nbconvert_exporter": "python",
   "pygments_lexer": "ipython3",
   "version": "3.7.3"
  }
 },
 "nbformat": 4,
 "nbformat_minor": 2
}
